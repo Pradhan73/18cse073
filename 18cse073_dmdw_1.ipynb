{
  "nbformat": 4,
  "nbformat_minor": 0,
  "metadata": {
    "colab": {
      "name": "18cse073_dmdw_1.ipynb",
      "provenance": [],
      "authorship_tag": "ABX9TyPgxvPzp4KSUcNYS+wGnHJk",
      "include_colab_link": true
    },
    "kernelspec": {
      "name": "python3",
      "display_name": "Python 3"
    }
  },
  "cells": [
    {
      "cell_type": "markdown",
      "metadata": {
        "id": "view-in-github",
        "colab_type": "text"
      },
      "source": [
        "<a href=\"https://colab.research.google.com/github/Pradhan73/18cse073/blob/README%2FEDIT/18cse073_dmdw_1.ipynb\" target=\"_parent\"><img src=\"https://colab.research.google.com/assets/colab-badge.svg\" alt=\"Open In Colab\"/></a>"
      ]
    },
    {
      "cell_type": "code",
      "metadata": {
        "id": "UjVbzNiFiRXH",
        "colab": {
          "base_uri": "https://localhost:8080/"
        },
        "outputId": "968736ab-0df8-44ee-c444-1490befc1595"
      },
      "source": [
        "n_num= [23,34,12,5,6,22,33,41,56,56,78,12,12,12]\n",
        "n=len(n_num)\n",
        "get_sum=sum(n_num)\n",
        "mean=get_sum/n\n",
        "print(\"Mean/Average is:\"+str(mean))"
      ],
      "execution_count": 1,
      "outputs": [
        {
          "output_type": "stream",
          "text": [
            "Mean/Average is:28.714285714285715\n"
          ],
          "name": "stdout"
        }
      ]
    },
    {
      "cell_type": "code",
      "metadata": {
        "colab": {
          "base_uri": "https://localhost:8080/"
        },
        "id": "AFPHTKrJuU8E",
        "outputId": "cc60467b-4a2c-4438-a3d9-425b475b06bb"
      },
      "source": [
        "#median without library function\n",
        "n_num = [23,34,12,5,6,22,33,41,56,56,78,12,12,12] \n",
        "n = len(n_num) \n",
        "n_num.sort() \n",
        "  \n",
        "if n % 2 == 0: \n",
        "    median1 = n_num[n//2] \n",
        "    median2 = n_num[n//2 - 1] \n",
        "    median = (median1 + median2)/2\n",
        "else: \n",
        "    median = n_num[n//2] \n",
        "print(\"Median is: \" + str(median))"
      ],
      "execution_count": 2,
      "outputs": [
        {
          "output_type": "stream",
          "text": [
            "Median is: 22.5\n"
          ],
          "name": "stdout"
        }
      ]
    },
    {
      "cell_type": "code",
      "metadata": {
        "colab": {
          "base_uri": "https://localhost:8080/"
        },
        "id": "qCx5xgxzueTx",
        "outputId": "bd895c37-af43-419b-9451-9ec97ea392c5"
      },
      "source": [
        "#mode without libray function\n",
        "from collections import Counter \n",
        "n_num = [23,34,12,5,6,22,33,41,56,56,78,12,12,12] \n",
        "n = len(n_num) \n",
        "  \n",
        "data = Counter(n_num) \n",
        "get_mode = dict(data) \n",
        "mode = [k for k, v in get_mode.items() if v == max(list(data.values()))] \n",
        "  \n",
        "if len(mode) == n: \n",
        "    get_mode = \" mode not found\"\n",
        "else: \n",
        "    get_mode = \"Mode is / are: \" + ', '.join(map(str, mode)) \n",
        "      \n",
        "print(get_mode)"
      ],
      "execution_count": 3,
      "outputs": [
        {
          "output_type": "stream",
          "text": [
            "Mode is / are: 12\n"
          ],
          "name": "stdout"
        }
      ]
    },
    {
      "cell_type": "code",
      "metadata": {
        "colab": {
          "base_uri": "https://localhost:8080/"
        },
        "id": "uwQzzjWFujqU",
        "outputId": "15880fb3-51fe-4000-dcbd-41c22d6307aa"
      },
      "source": [
        "import statistics\n",
        "statistics.mean([23,34,12,5,6,22,33,41,56,56,78,12,12,12])"
      ],
      "execution_count": 4,
      "outputs": [
        {
          "output_type": "execute_result",
          "data": {
            "text/plain": [
              "28.714285714285715"
            ]
          },
          "metadata": {
            "tags": []
          },
          "execution_count": 4
        }
      ]
    },
    {
      "cell_type": "code",
      "metadata": {
        "colab": {
          "base_uri": "https://localhost:8080/"
        },
        "id": "sqkLmBmDu38G",
        "outputId": "ea7cd294-e5c6-4fb8-db45-95193ba96e63"
      },
      "source": [
        "# calculatuon for  list of variance \n",
        "import numpy as np \n",
        "list = [ 23,34,12,22,5,33,41,56,78] \n",
        "print(np.var(list))"
      ],
      "execution_count": 5,
      "outputs": [
        {
          "output_type": "stream",
          "text": [
            "451.0617283950617\n"
          ],
          "name": "stdout"
        }
      ]
    },
    {
      "cell_type": "code",
      "metadata": {
        "colab": {
          "base_uri": "https://localhost:8080/"
        },
        "id": "VBOtcg9wu-t4",
        "outputId": "b0840273-dc70-46f1-b297-2eea9885b9f6"
      },
      "source": [
        "#calculation of standard deviation\n",
        "import numpy as np \n",
        "  \n",
        "# Taking the elements in List type\n",
        "list = [23,34,12,22,5,33,41,56,78]  \n",
        "print(np.std(list))"
      ],
      "execution_count": 6,
      "outputs": [
        {
          "output_type": "stream",
          "text": [
            "21.238213870169538\n"
          ],
          "name": "stdout"
        }
      ]
    },
    {
      "cell_type": "code",
      "metadata": {
        "id": "_GjZM-p5u_5H"
      },
      "source": [
        ""
      ],
      "execution_count": null,
      "outputs": []
    }
  ]
}