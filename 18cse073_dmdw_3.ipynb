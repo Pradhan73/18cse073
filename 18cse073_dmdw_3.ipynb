{
  "nbformat": 4,
  "nbformat_minor": 0,
  "metadata": {
    "colab": {
      "name": "18cse073_dmdw_3.ipynb",
      "provenance": [],
      "authorship_tag": "ABX9TyNm78svVrbGdFTReSKtRAfX",
      "include_colab_link": true
    },
    "kernelspec": {
      "name": "python3",
      "display_name": "Python 3"
    }
  },
  "cells": [
    {
      "cell_type": "markdown",
      "metadata": {
        "id": "view-in-github",
        "colab_type": "text"
      },
      "source": [
        "<a href=\"https://colab.research.google.com/github/Pradhan73/18cse073/blob/README%2FEDIT/18cse073_dmdw_3.ipynb\" target=\"_parent\"><img src=\"https://colab.research.google.com/assets/colab-badge.svg\" alt=\"Open In Colab\"/></a>"
      ]
    },
    {
      "cell_type": "code",
      "metadata": {
        "id": "JeDXIOl7R7c_"
      },
      "source": [
        "import pandas as pd\n",
        "url='https://raw.githubusercontent.com/archana1822/DMDW-Lab/main/Toyota.csv'\n",
        "data=pd.read_csv(url)"
      ],
      "execution_count": 3,
      "outputs": []
    },
    {
      "cell_type": "code",
      "metadata": {
        "colab": {
          "base_uri": "https://localhost:8080/"
        },
        "id": "nxk-iQ71U_IA",
        "outputId": "5778f5c6-0b9e-4204-df8d-d0311d44519b"
      },
      "source": [
        "type(data)"
      ],
      "execution_count": null,
      "outputs": [
        {
          "output_type": "execute_result",
          "data": {
            "text/plain": [
              "pandas.core.frame.DataFrame"
            ]
          },
          "metadata": {
            "tags": []
          },
          "execution_count": 2
        }
      ]
    },
    {
      "cell_type": "code",
      "metadata": {
        "colab": {
          "base_uri": "https://localhost:8080/",
          "height": 195
        },
        "id": "wqSSThGaVJNe",
        "outputId": "ec9686bb-24af-433a-dd95-3041c43079eb"
      },
      "source": [
        "data.head()"
      ],
      "execution_count": 5,
      "outputs": [
        {
          "output_type": "execute_result",
          "data": {
            "text/html": [
              "<div>\n",
              "<style scoped>\n",
              "    .dataframe tbody tr th:only-of-type {\n",
              "        vertical-align: middle;\n",
              "    }\n",
              "\n",
              "    .dataframe tbody tr th {\n",
              "        vertical-align: top;\n",
              "    }\n",
              "\n",
              "    .dataframe thead th {\n",
              "        text-align: right;\n",
              "    }\n",
              "</style>\n",
              "<table border=\"1\" class=\"dataframe\">\n",
              "  <thead>\n",
              "    <tr style=\"text-align: right;\">\n",
              "      <th></th>\n",
              "      <th>Unnamed: 0</th>\n",
              "      <th>Price</th>\n",
              "      <th>Age</th>\n",
              "      <th>KM</th>\n",
              "      <th>FuelType</th>\n",
              "      <th>HP</th>\n",
              "      <th>MetColor</th>\n",
              "      <th>Automatic</th>\n",
              "      <th>CC</th>\n",
              "      <th>Doors</th>\n",
              "      <th>Weight</th>\n",
              "    </tr>\n",
              "  </thead>\n",
              "  <tbody>\n",
              "    <tr>\n",
              "      <th>0</th>\n",
              "      <td>0</td>\n",
              "      <td>13500</td>\n",
              "      <td>23.0</td>\n",
              "      <td>46986</td>\n",
              "      <td>Diesel</td>\n",
              "      <td>90</td>\n",
              "      <td>1.0</td>\n",
              "      <td>0</td>\n",
              "      <td>2000</td>\n",
              "      <td>three</td>\n",
              "      <td>1165</td>\n",
              "    </tr>\n",
              "    <tr>\n",
              "      <th>1</th>\n",
              "      <td>1</td>\n",
              "      <td>13750</td>\n",
              "      <td>23.0</td>\n",
              "      <td>72937</td>\n",
              "      <td>Diesel</td>\n",
              "      <td>90</td>\n",
              "      <td>1.0</td>\n",
              "      <td>0</td>\n",
              "      <td>2000</td>\n",
              "      <td>3</td>\n",
              "      <td>1165</td>\n",
              "    </tr>\n",
              "    <tr>\n",
              "      <th>2</th>\n",
              "      <td>2</td>\n",
              "      <td>13950</td>\n",
              "      <td>24.0</td>\n",
              "      <td>41711</td>\n",
              "      <td>Diesel</td>\n",
              "      <td>90</td>\n",
              "      <td>NaN</td>\n",
              "      <td>0</td>\n",
              "      <td>2000</td>\n",
              "      <td>3</td>\n",
              "      <td>1165</td>\n",
              "    </tr>\n",
              "    <tr>\n",
              "      <th>3</th>\n",
              "      <td>3</td>\n",
              "      <td>14950</td>\n",
              "      <td>26.0</td>\n",
              "      <td>48000</td>\n",
              "      <td>Diesel</td>\n",
              "      <td>90</td>\n",
              "      <td>0.0</td>\n",
              "      <td>0</td>\n",
              "      <td>2000</td>\n",
              "      <td>3</td>\n",
              "      <td>1165</td>\n",
              "    </tr>\n",
              "    <tr>\n",
              "      <th>4</th>\n",
              "      <td>4</td>\n",
              "      <td>13750</td>\n",
              "      <td>30.0</td>\n",
              "      <td>38500</td>\n",
              "      <td>Diesel</td>\n",
              "      <td>90</td>\n",
              "      <td>0.0</td>\n",
              "      <td>0</td>\n",
              "      <td>2000</td>\n",
              "      <td>3</td>\n",
              "      <td>1170</td>\n",
              "    </tr>\n",
              "  </tbody>\n",
              "</table>\n",
              "</div>"
            ],
            "text/plain": [
              "   Unnamed: 0  Price   Age     KM  ... Automatic    CC  Doors  Weight\n",
              "0           0  13500  23.0  46986  ...         0  2000  three    1165\n",
              "1           1  13750  23.0  72937  ...         0  2000      3    1165\n",
              "2           2  13950  24.0  41711  ...         0  2000      3    1165\n",
              "3           3  14950  26.0  48000  ...         0  2000      3    1165\n",
              "4           4  13750  30.0  38500  ...         0  2000      3    1170\n",
              "\n",
              "[5 rows x 11 columns]"
            ]
          },
          "metadata": {
            "tags": []
          },
          "execution_count": 5
        }
      ]
    },
    {
      "cell_type": "code",
      "metadata": {
        "colab": {
          "base_uri": "https://localhost:8080/",
          "height": 195
        },
        "id": "lFnWluF3VNpj",
        "outputId": "9c967727-ee57-40f0-84e5-1bcb0379d220"
      },
      "source": [
        "data.tail()"
      ],
      "execution_count": 6,
      "outputs": [
        {
          "output_type": "execute_result",
          "data": {
            "text/html": [
              "<div>\n",
              "<style scoped>\n",
              "    .dataframe tbody tr th:only-of-type {\n",
              "        vertical-align: middle;\n",
              "    }\n",
              "\n",
              "    .dataframe tbody tr th {\n",
              "        vertical-align: top;\n",
              "    }\n",
              "\n",
              "    .dataframe thead th {\n",
              "        text-align: right;\n",
              "    }\n",
              "</style>\n",
              "<table border=\"1\" class=\"dataframe\">\n",
              "  <thead>\n",
              "    <tr style=\"text-align: right;\">\n",
              "      <th></th>\n",
              "      <th>Unnamed: 0</th>\n",
              "      <th>Price</th>\n",
              "      <th>Age</th>\n",
              "      <th>KM</th>\n",
              "      <th>FuelType</th>\n",
              "      <th>HP</th>\n",
              "      <th>MetColor</th>\n",
              "      <th>Automatic</th>\n",
              "      <th>CC</th>\n",
              "      <th>Doors</th>\n",
              "      <th>Weight</th>\n",
              "    </tr>\n",
              "  </thead>\n",
              "  <tbody>\n",
              "    <tr>\n",
              "      <th>1431</th>\n",
              "      <td>1431</td>\n",
              "      <td>7500</td>\n",
              "      <td>NaN</td>\n",
              "      <td>20544</td>\n",
              "      <td>Petrol</td>\n",
              "      <td>86</td>\n",
              "      <td>1.0</td>\n",
              "      <td>0</td>\n",
              "      <td>1300</td>\n",
              "      <td>3</td>\n",
              "      <td>1025</td>\n",
              "    </tr>\n",
              "    <tr>\n",
              "      <th>1432</th>\n",
              "      <td>1432</td>\n",
              "      <td>10845</td>\n",
              "      <td>72.0</td>\n",
              "      <td>??</td>\n",
              "      <td>Petrol</td>\n",
              "      <td>86</td>\n",
              "      <td>0.0</td>\n",
              "      <td>0</td>\n",
              "      <td>1300</td>\n",
              "      <td>3</td>\n",
              "      <td>1015</td>\n",
              "    </tr>\n",
              "    <tr>\n",
              "      <th>1433</th>\n",
              "      <td>1433</td>\n",
              "      <td>8500</td>\n",
              "      <td>NaN</td>\n",
              "      <td>17016</td>\n",
              "      <td>Petrol</td>\n",
              "      <td>86</td>\n",
              "      <td>0.0</td>\n",
              "      <td>0</td>\n",
              "      <td>1300</td>\n",
              "      <td>3</td>\n",
              "      <td>1015</td>\n",
              "    </tr>\n",
              "    <tr>\n",
              "      <th>1434</th>\n",
              "      <td>1434</td>\n",
              "      <td>7250</td>\n",
              "      <td>70.0</td>\n",
              "      <td>??</td>\n",
              "      <td>NaN</td>\n",
              "      <td>86</td>\n",
              "      <td>1.0</td>\n",
              "      <td>0</td>\n",
              "      <td>1300</td>\n",
              "      <td>3</td>\n",
              "      <td>1015</td>\n",
              "    </tr>\n",
              "    <tr>\n",
              "      <th>1435</th>\n",
              "      <td>1435</td>\n",
              "      <td>6950</td>\n",
              "      <td>76.0</td>\n",
              "      <td>1</td>\n",
              "      <td>Petrol</td>\n",
              "      <td>110</td>\n",
              "      <td>0.0</td>\n",
              "      <td>0</td>\n",
              "      <td>1600</td>\n",
              "      <td>5</td>\n",
              "      <td>1114</td>\n",
              "    </tr>\n",
              "  </tbody>\n",
              "</table>\n",
              "</div>"
            ],
            "text/plain": [
              "      Unnamed: 0  Price   Age     KM  ... Automatic    CC  Doors  Weight\n",
              "1431        1431   7500   NaN  20544  ...         0  1300      3    1025\n",
              "1432        1432  10845  72.0     ??  ...         0  1300      3    1015\n",
              "1433        1433   8500   NaN  17016  ...         0  1300      3    1015\n",
              "1434        1434   7250  70.0     ??  ...         0  1300      3    1015\n",
              "1435        1435   6950  76.0      1  ...         0  1600      5    1114\n",
              "\n",
              "[5 rows x 11 columns]"
            ]
          },
          "metadata": {
            "tags": []
          },
          "execution_count": 6
        }
      ]
    },
    {
      "cell_type": "code",
      "metadata": {
        "colab": {
          "base_uri": "https://localhost:8080/"
        },
        "id": "51u9lObCVUTO",
        "outputId": "9e6b857d-6d05-4c87-f546-8e62cf7751cd"
      },
      "source": [
        "data.info"
      ],
      "execution_count": 7,
      "outputs": [
        {
          "output_type": "execute_result",
          "data": {
            "text/plain": [
              "<bound method DataFrame.info of       Unnamed: 0  Price   Age     KM  ... Automatic    CC  Doors  Weight\n",
              "0              0  13500  23.0  46986  ...         0  2000  three    1165\n",
              "1              1  13750  23.0  72937  ...         0  2000      3    1165\n",
              "2              2  13950  24.0  41711  ...         0  2000      3    1165\n",
              "3              3  14950  26.0  48000  ...         0  2000      3    1165\n",
              "4              4  13750  30.0  38500  ...         0  2000      3    1170\n",
              "...          ...    ...   ...    ...  ...       ...   ...    ...     ...\n",
              "1431        1431   7500   NaN  20544  ...         0  1300      3    1025\n",
              "1432        1432  10845  72.0     ??  ...         0  1300      3    1015\n",
              "1433        1433   8500   NaN  17016  ...         0  1300      3    1015\n",
              "1434        1434   7250  70.0     ??  ...         0  1300      3    1015\n",
              "1435        1435   6950  76.0      1  ...         0  1600      5    1114\n",
              "\n",
              "[1436 rows x 11 columns]>"
            ]
          },
          "metadata": {
            "tags": []
          },
          "execution_count": 7
        }
      ]
    },
    {
      "cell_type": "code",
      "metadata": {
        "colab": {
          "base_uri": "https://localhost:8080/"
        },
        "id": "Qfo-7DMOVYWT",
        "outputId": "099271e4-b6a0-409a-e104-01cbb875444d"
      },
      "source": [
        "data.index"
      ],
      "execution_count": 8,
      "outputs": [
        {
          "output_type": "execute_result",
          "data": {
            "text/plain": [
              "RangeIndex(start=0, stop=1436, step=1)"
            ]
          },
          "metadata": {
            "tags": []
          },
          "execution_count": 8
        }
      ]
    },
    {
      "cell_type": "code",
      "metadata": {
        "colab": {
          "base_uri": "https://localhost:8080/"
        },
        "id": "as7GAFTLVeYh",
        "outputId": "63a6ba21-d23c-4e51-8bbf-2703db49eef6"
      },
      "source": [
        "data.columns"
      ],
      "execution_count": null,
      "outputs": [
        {
          "output_type": "execute_result",
          "data": {
            "text/plain": [
              "Index(['Unnamed: 0', 'Price', 'Age', 'KM', 'FuelType', 'HP', 'MetColor',\n",
              "       'Automatic', 'CC', 'Doors', 'Weight'],\n",
              "      dtype='object')"
            ]
          },
          "metadata": {
            "tags": []
          },
          "execution_count": 7
        }
      ]
    },
    {
      "cell_type": "code",
      "metadata": {
        "colab": {
          "base_uri": "https://localhost:8080/"
        },
        "id": "hbpqGq0dVg9_",
        "outputId": "fba380d3-adff-4fd1-a005-a420544483e2"
      },
      "source": [
        "data.shape"
      ],
      "execution_count": 10,
      "outputs": [
        {
          "output_type": "execute_result",
          "data": {
            "text/plain": [
              "(1436, 11)"
            ]
          },
          "metadata": {
            "tags": []
          },
          "execution_count": 10
        }
      ]
    },
    {
      "cell_type": "code",
      "metadata": {
        "colab": {
          "base_uri": "https://localhost:8080/",
          "height": 343
        },
        "id": "uEn-1y8iVkGP",
        "outputId": "603a65df-0497-4593-dfc9-a4057e390c57"
      },
      "source": [
        "data[['Price',\"Age\"]].head(10)"
      ],
      "execution_count": 11,
      "outputs": [
        {
          "output_type": "execute_result",
          "data": {
            "text/html": [
              "<div>\n",
              "<style scoped>\n",
              "    .dataframe tbody tr th:only-of-type {\n",
              "        vertical-align: middle;\n",
              "    }\n",
              "\n",
              "    .dataframe tbody tr th {\n",
              "        vertical-align: top;\n",
              "    }\n",
              "\n",
              "    .dataframe thead th {\n",
              "        text-align: right;\n",
              "    }\n",
              "</style>\n",
              "<table border=\"1\" class=\"dataframe\">\n",
              "  <thead>\n",
              "    <tr style=\"text-align: right;\">\n",
              "      <th></th>\n",
              "      <th>Price</th>\n",
              "      <th>Age</th>\n",
              "    </tr>\n",
              "  </thead>\n",
              "  <tbody>\n",
              "    <tr>\n",
              "      <th>0</th>\n",
              "      <td>13500</td>\n",
              "      <td>23.0</td>\n",
              "    </tr>\n",
              "    <tr>\n",
              "      <th>1</th>\n",
              "      <td>13750</td>\n",
              "      <td>23.0</td>\n",
              "    </tr>\n",
              "    <tr>\n",
              "      <th>2</th>\n",
              "      <td>13950</td>\n",
              "      <td>24.0</td>\n",
              "    </tr>\n",
              "    <tr>\n",
              "      <th>3</th>\n",
              "      <td>14950</td>\n",
              "      <td>26.0</td>\n",
              "    </tr>\n",
              "    <tr>\n",
              "      <th>4</th>\n",
              "      <td>13750</td>\n",
              "      <td>30.0</td>\n",
              "    </tr>\n",
              "    <tr>\n",
              "      <th>5</th>\n",
              "      <td>12950</td>\n",
              "      <td>32.0</td>\n",
              "    </tr>\n",
              "    <tr>\n",
              "      <th>6</th>\n",
              "      <td>16900</td>\n",
              "      <td>27.0</td>\n",
              "    </tr>\n",
              "    <tr>\n",
              "      <th>7</th>\n",
              "      <td>18600</td>\n",
              "      <td>30.0</td>\n",
              "    </tr>\n",
              "    <tr>\n",
              "      <th>8</th>\n",
              "      <td>21500</td>\n",
              "      <td>27.0</td>\n",
              "    </tr>\n",
              "    <tr>\n",
              "      <th>9</th>\n",
              "      <td>12950</td>\n",
              "      <td>23.0</td>\n",
              "    </tr>\n",
              "  </tbody>\n",
              "</table>\n",
              "</div>"
            ],
            "text/plain": [
              "   Price   Age\n",
              "0  13500  23.0\n",
              "1  13750  23.0\n",
              "2  13950  24.0\n",
              "3  14950  26.0\n",
              "4  13750  30.0\n",
              "5  12950  32.0\n",
              "6  16900  27.0\n",
              "7  18600  30.0\n",
              "8  21500  27.0\n",
              "9  12950  23.0"
            ]
          },
          "metadata": {
            "tags": []
          },
          "execution_count": 11
        }
      ]
    },
    {
      "cell_type": "code",
      "metadata": {
        "colab": {
          "base_uri": "https://localhost:8080/"
        },
        "id": "i7RX3esYVn4g",
        "outputId": "5cdc2f0f-d41e-4912-965f-f19434f998d0"
      },
      "source": [
        "data.isnull().sum()"
      ],
      "execution_count": 12,
      "outputs": [
        {
          "output_type": "execute_result",
          "data": {
            "text/plain": [
              "Unnamed: 0      0\n",
              "Price           0\n",
              "Age           100\n",
              "KM              0\n",
              "FuelType      100\n",
              "HP              0\n",
              "MetColor      150\n",
              "Automatic       0\n",
              "CC              0\n",
              "Doors           0\n",
              "Weight          0\n",
              "dtype: int64"
            ]
          },
          "metadata": {
            "tags": []
          },
          "execution_count": 12
        }
      ]
    },
    {
      "cell_type": "code",
      "metadata": {
        "colab": {
          "base_uri": "https://localhost:8080/"
        },
        "id": "SHrmGzWTVsVB",
        "outputId": "95ed9ad1-1bc7-4cbf-9607-df08cf0228f5"
      },
      "source": [
        "data.dropna(inplace=True)\n",
        "data.isnull().sum()"
      ],
      "execution_count": 13,
      "outputs": [
        {
          "output_type": "execute_result",
          "data": {
            "text/plain": [
              "Unnamed: 0    0\n",
              "Price         0\n",
              "Age           0\n",
              "KM            0\n",
              "FuelType      0\n",
              "HP            0\n",
              "MetColor      0\n",
              "Automatic     0\n",
              "CC            0\n",
              "Doors         0\n",
              "Weight        0\n",
              "dtype: int64"
            ]
          },
          "metadata": {
            "tags": []
          },
          "execution_count": 13
        }
      ]
    },
    {
      "cell_type": "code",
      "metadata": {
        "colab": {
          "base_uri": "https://localhost:8080/"
        },
        "id": "XZnD1zO4Vvzb",
        "outputId": "686d3d92-7bd1-4cba-d02a-6dfd88bd0d47"
      },
      "source": [
        "data.shape"
      ],
      "execution_count": 14,
      "outputs": [
        {
          "output_type": "execute_result",
          "data": {
            "text/plain": [
              "(1111, 11)"
            ]
          },
          "metadata": {
            "tags": []
          },
          "execution_count": 14
        }
      ]
    },
    {
      "cell_type": "code",
      "metadata": {
        "colab": {
          "base_uri": "https://localhost:8080/"
        },
        "id": "sr7PJL6PVzuw",
        "outputId": "3b84adee-a746-4c73-9e01-fe6e9402a8df"
      },
      "source": [
        "data['MetColor'].mean()"
      ],
      "execution_count": 15,
      "outputs": [
        {
          "output_type": "execute_result",
          "data": {
            "text/plain": [
              "0.6750675067506751"
            ]
          },
          "metadata": {
            "tags": []
          },
          "execution_count": 15
        }
      ]
    },
    {
      "cell_type": "code",
      "metadata": {
        "colab": {
          "base_uri": "https://localhost:8080/"
        },
        "id": "ZS2qz-kUV6TW",
        "outputId": "88fa9ee1-db70-4f44-f5f6-0255a941259a"
      },
      "source": [
        "data['MetColor'].head()"
      ],
      "execution_count": 18,
      "outputs": [
        {
          "output_type": "execute_result",
          "data": {
            "text/plain": [
              "0    1.0\n",
              "1    1.0\n",
              "3    0.0\n",
              "4    0.0\n",
              "5    0.0\n",
              "Name: MetColor, dtype: float64"
            ]
          },
          "metadata": {
            "tags": []
          },
          "execution_count": 18
        }
      ]
    },
    {
      "cell_type": "code",
      "metadata": {
        "colab": {
          "base_uri": "https://localhost:8080/"
        },
        "id": "eWG7xWEBWAH-",
        "outputId": "38192bf8-bff9-461c-efc7-e98e16ed281e"
      },
      "source": [
        "import numpy as np\n",
        "data['MetColor'].replace(np.NaN,data['MetColor'].mean()).head()"
      ],
      "execution_count": 17,
      "outputs": [
        {
          "output_type": "execute_result",
          "data": {
            "text/plain": [
              "0    1.0\n",
              "1    1.0\n",
              "3    0.0\n",
              "4    0.0\n",
              "5    0.0\n",
              "Name: MetColor, dtype: float64"
            ]
          },
          "metadata": {
            "tags": []
          },
          "execution_count": 17
        }
      ]
    },
    {
      "cell_type": "code",
      "metadata": {
        "colab": {
          "base_uri": "https://localhost:8080/",
          "height": 343
        },
        "id": "UusIROZkWExK",
        "outputId": "7797cb9c-c341-41bb-865a-95be72911c63"
      },
      "source": [
        "data.head(10)"
      ],
      "execution_count": 19,
      "outputs": [
        {
          "output_type": "execute_result",
          "data": {
            "text/html": [
              "<div>\n",
              "<style scoped>\n",
              "    .dataframe tbody tr th:only-of-type {\n",
              "        vertical-align: middle;\n",
              "    }\n",
              "\n",
              "    .dataframe tbody tr th {\n",
              "        vertical-align: top;\n",
              "    }\n",
              "\n",
              "    .dataframe thead th {\n",
              "        text-align: right;\n",
              "    }\n",
              "</style>\n",
              "<table border=\"1\" class=\"dataframe\">\n",
              "  <thead>\n",
              "    <tr style=\"text-align: right;\">\n",
              "      <th></th>\n",
              "      <th>Unnamed: 0</th>\n",
              "      <th>Price</th>\n",
              "      <th>Age</th>\n",
              "      <th>KM</th>\n",
              "      <th>FuelType</th>\n",
              "      <th>HP</th>\n",
              "      <th>MetColor</th>\n",
              "      <th>Automatic</th>\n",
              "      <th>CC</th>\n",
              "      <th>Doors</th>\n",
              "      <th>Weight</th>\n",
              "    </tr>\n",
              "  </thead>\n",
              "  <tbody>\n",
              "    <tr>\n",
              "      <th>0</th>\n",
              "      <td>0</td>\n",
              "      <td>13500</td>\n",
              "      <td>23.0</td>\n",
              "      <td>46986</td>\n",
              "      <td>Diesel</td>\n",
              "      <td>90</td>\n",
              "      <td>1.0</td>\n",
              "      <td>0</td>\n",
              "      <td>2000</td>\n",
              "      <td>three</td>\n",
              "      <td>1165</td>\n",
              "    </tr>\n",
              "    <tr>\n",
              "      <th>1</th>\n",
              "      <td>1</td>\n",
              "      <td>13750</td>\n",
              "      <td>23.0</td>\n",
              "      <td>72937</td>\n",
              "      <td>Diesel</td>\n",
              "      <td>90</td>\n",
              "      <td>1.0</td>\n",
              "      <td>0</td>\n",
              "      <td>2000</td>\n",
              "      <td>3</td>\n",
              "      <td>1165</td>\n",
              "    </tr>\n",
              "    <tr>\n",
              "      <th>3</th>\n",
              "      <td>3</td>\n",
              "      <td>14950</td>\n",
              "      <td>26.0</td>\n",
              "      <td>48000</td>\n",
              "      <td>Diesel</td>\n",
              "      <td>90</td>\n",
              "      <td>0.0</td>\n",
              "      <td>0</td>\n",
              "      <td>2000</td>\n",
              "      <td>3</td>\n",
              "      <td>1165</td>\n",
              "    </tr>\n",
              "    <tr>\n",
              "      <th>4</th>\n",
              "      <td>4</td>\n",
              "      <td>13750</td>\n",
              "      <td>30.0</td>\n",
              "      <td>38500</td>\n",
              "      <td>Diesel</td>\n",
              "      <td>90</td>\n",
              "      <td>0.0</td>\n",
              "      <td>0</td>\n",
              "      <td>2000</td>\n",
              "      <td>3</td>\n",
              "      <td>1170</td>\n",
              "    </tr>\n",
              "    <tr>\n",
              "      <th>5</th>\n",
              "      <td>5</td>\n",
              "      <td>12950</td>\n",
              "      <td>32.0</td>\n",
              "      <td>61000</td>\n",
              "      <td>Diesel</td>\n",
              "      <td>90</td>\n",
              "      <td>0.0</td>\n",
              "      <td>0</td>\n",
              "      <td>2000</td>\n",
              "      <td>3</td>\n",
              "      <td>1170</td>\n",
              "    </tr>\n",
              "    <tr>\n",
              "      <th>8</th>\n",
              "      <td>8</td>\n",
              "      <td>21500</td>\n",
              "      <td>27.0</td>\n",
              "      <td>19700</td>\n",
              "      <td>Petrol</td>\n",
              "      <td>192</td>\n",
              "      <td>0.0</td>\n",
              "      <td>0</td>\n",
              "      <td>1800</td>\n",
              "      <td>3</td>\n",
              "      <td>1185</td>\n",
              "    </tr>\n",
              "    <tr>\n",
              "      <th>10</th>\n",
              "      <td>10</td>\n",
              "      <td>20950</td>\n",
              "      <td>25.0</td>\n",
              "      <td>31461</td>\n",
              "      <td>Petrol</td>\n",
              "      <td>192</td>\n",
              "      <td>0.0</td>\n",
              "      <td>0</td>\n",
              "      <td>1800</td>\n",
              "      <td>3</td>\n",
              "      <td>1185</td>\n",
              "    </tr>\n",
              "    <tr>\n",
              "      <th>11</th>\n",
              "      <td>11</td>\n",
              "      <td>19950</td>\n",
              "      <td>22.0</td>\n",
              "      <td>43610</td>\n",
              "      <td>Petrol</td>\n",
              "      <td>192</td>\n",
              "      <td>0.0</td>\n",
              "      <td>0</td>\n",
              "      <td>1800</td>\n",
              "      <td>3</td>\n",
              "      <td>1185</td>\n",
              "    </tr>\n",
              "    <tr>\n",
              "      <th>12</th>\n",
              "      <td>12</td>\n",
              "      <td>19600</td>\n",
              "      <td>25.0</td>\n",
              "      <td>32189</td>\n",
              "      <td>Petrol</td>\n",
              "      <td>192</td>\n",
              "      <td>0.0</td>\n",
              "      <td>0</td>\n",
              "      <td>1800</td>\n",
              "      <td>3</td>\n",
              "      <td>1185</td>\n",
              "    </tr>\n",
              "    <tr>\n",
              "      <th>13</th>\n",
              "      <td>13</td>\n",
              "      <td>21500</td>\n",
              "      <td>31.0</td>\n",
              "      <td>23000</td>\n",
              "      <td>Petrol</td>\n",
              "      <td>192</td>\n",
              "      <td>1.0</td>\n",
              "      <td>0</td>\n",
              "      <td>1800</td>\n",
              "      <td>3</td>\n",
              "      <td>1185</td>\n",
              "    </tr>\n",
              "  </tbody>\n",
              "</table>\n",
              "</div>"
            ],
            "text/plain": [
              "    Unnamed: 0  Price   Age     KM  ... Automatic    CC  Doors  Weight\n",
              "0            0  13500  23.0  46986  ...         0  2000  three    1165\n",
              "1            1  13750  23.0  72937  ...         0  2000      3    1165\n",
              "3            3  14950  26.0  48000  ...         0  2000      3    1165\n",
              "4            4  13750  30.0  38500  ...         0  2000      3    1170\n",
              "5            5  12950  32.0  61000  ...         0  2000      3    1170\n",
              "8            8  21500  27.0  19700  ...         0  1800      3    1185\n",
              "10          10  20950  25.0  31461  ...         0  1800      3    1185\n",
              "11          11  19950  22.0  43610  ...         0  1800      3    1185\n",
              "12          12  19600  25.0  32189  ...         0  1800      3    1185\n",
              "13          13  21500  31.0  23000  ...         0  1800      3    1185\n",
              "\n",
              "[10 rows x 11 columns]"
            ]
          },
          "metadata": {
            "tags": []
          },
          "execution_count": 19
        }
      ]
    },
    {
      "cell_type": "code",
      "metadata": {
        "colab": {
          "base_uri": "https://localhost:8080/"
        },
        "id": "z-EnizDfWIh3",
        "outputId": "857f207c-79df-4471-9428-942ec519485d"
      },
      "source": [
        "data['CC'].mean()"
      ],
      "execution_count": 20,
      "outputs": [
        {
          "output_type": "execute_result",
          "data": {
            "text/plain": [
              "1569.4635463546354"
            ]
          },
          "metadata": {
            "tags": []
          },
          "execution_count": 20
        }
      ]
    },
    {
      "cell_type": "code",
      "metadata": {
        "colab": {
          "base_uri": "https://localhost:8080/"
        },
        "id": "_hzETDrQWNih",
        "outputId": "91df447e-c3dd-4da8-9368-9ec7990df9d9"
      },
      "source": [
        "data['CC'].head()"
      ],
      "execution_count": 21,
      "outputs": [
        {
          "output_type": "execute_result",
          "data": {
            "text/plain": [
              "0    2000\n",
              "1    2000\n",
              "3    2000\n",
              "4    2000\n",
              "5    2000\n",
              "Name: CC, dtype: int64"
            ]
          },
          "metadata": {
            "tags": []
          },
          "execution_count": 21
        }
      ]
    },
    {
      "cell_type": "code",
      "metadata": {
        "colab": {
          "base_uri": "https://localhost:8080/",
          "height": 639
        },
        "id": "a7uNROB1WQ_A",
        "outputId": "81e1cbb1-797b-4f53-eebb-e2b9d60e51c0"
      },
      "source": [
        "data[['Age',\"KM\"]].head(20)"
      ],
      "execution_count": 23,
      "outputs": [
        {
          "output_type": "execute_result",
          "data": {
            "text/html": [
              "<div>\n",
              "<style scoped>\n",
              "    .dataframe tbody tr th:only-of-type {\n",
              "        vertical-align: middle;\n",
              "    }\n",
              "\n",
              "    .dataframe tbody tr th {\n",
              "        vertical-align: top;\n",
              "    }\n",
              "\n",
              "    .dataframe thead th {\n",
              "        text-align: right;\n",
              "    }\n",
              "</style>\n",
              "<table border=\"1\" class=\"dataframe\">\n",
              "  <thead>\n",
              "    <tr style=\"text-align: right;\">\n",
              "      <th></th>\n",
              "      <th>Age</th>\n",
              "      <th>KM</th>\n",
              "    </tr>\n",
              "  </thead>\n",
              "  <tbody>\n",
              "    <tr>\n",
              "      <th>0</th>\n",
              "      <td>23.0</td>\n",
              "      <td>46986</td>\n",
              "    </tr>\n",
              "    <tr>\n",
              "      <th>1</th>\n",
              "      <td>23.0</td>\n",
              "      <td>72937</td>\n",
              "    </tr>\n",
              "    <tr>\n",
              "      <th>3</th>\n",
              "      <td>26.0</td>\n",
              "      <td>48000</td>\n",
              "    </tr>\n",
              "    <tr>\n",
              "      <th>4</th>\n",
              "      <td>30.0</td>\n",
              "      <td>38500</td>\n",
              "    </tr>\n",
              "    <tr>\n",
              "      <th>5</th>\n",
              "      <td>32.0</td>\n",
              "      <td>61000</td>\n",
              "    </tr>\n",
              "    <tr>\n",
              "      <th>8</th>\n",
              "      <td>27.0</td>\n",
              "      <td>19700</td>\n",
              "    </tr>\n",
              "    <tr>\n",
              "      <th>10</th>\n",
              "      <td>25.0</td>\n",
              "      <td>31461</td>\n",
              "    </tr>\n",
              "    <tr>\n",
              "      <th>11</th>\n",
              "      <td>22.0</td>\n",
              "      <td>43610</td>\n",
              "    </tr>\n",
              "    <tr>\n",
              "      <th>12</th>\n",
              "      <td>25.0</td>\n",
              "      <td>32189</td>\n",
              "    </tr>\n",
              "    <tr>\n",
              "      <th>13</th>\n",
              "      <td>31.0</td>\n",
              "      <td>23000</td>\n",
              "    </tr>\n",
              "    <tr>\n",
              "      <th>14</th>\n",
              "      <td>32.0</td>\n",
              "      <td>34131</td>\n",
              "    </tr>\n",
              "    <tr>\n",
              "      <th>15</th>\n",
              "      <td>28.0</td>\n",
              "      <td>18739</td>\n",
              "    </tr>\n",
              "    <tr>\n",
              "      <th>16</th>\n",
              "      <td>30.0</td>\n",
              "      <td>34000</td>\n",
              "    </tr>\n",
              "    <tr>\n",
              "      <th>17</th>\n",
              "      <td>24.0</td>\n",
              "      <td>21716</td>\n",
              "    </tr>\n",
              "    <tr>\n",
              "      <th>18</th>\n",
              "      <td>24.0</td>\n",
              "      <td>25563</td>\n",
              "    </tr>\n",
              "    <tr>\n",
              "      <th>19</th>\n",
              "      <td>30.0</td>\n",
              "      <td>64359</td>\n",
              "    </tr>\n",
              "    <tr>\n",
              "      <th>20</th>\n",
              "      <td>30.0</td>\n",
              "      <td>67660</td>\n",
              "    </tr>\n",
              "    <tr>\n",
              "      <th>22</th>\n",
              "      <td>28.0</td>\n",
              "      <td>56349</td>\n",
              "    </tr>\n",
              "    <tr>\n",
              "      <th>23</th>\n",
              "      <td>28.0</td>\n",
              "      <td>32220</td>\n",
              "    </tr>\n",
              "    <tr>\n",
              "      <th>24</th>\n",
              "      <td>29.0</td>\n",
              "      <td>25813</td>\n",
              "    </tr>\n",
              "  </tbody>\n",
              "</table>\n",
              "</div>"
            ],
            "text/plain": [
              "     Age     KM\n",
              "0   23.0  46986\n",
              "1   23.0  72937\n",
              "3   26.0  48000\n",
              "4   30.0  38500\n",
              "5   32.0  61000\n",
              "8   27.0  19700\n",
              "10  25.0  31461\n",
              "11  22.0  43610\n",
              "12  25.0  32189\n",
              "13  31.0  23000\n",
              "14  32.0  34131\n",
              "15  28.0  18739\n",
              "16  30.0  34000\n",
              "17  24.0  21716\n",
              "18  24.0  25563\n",
              "19  30.0  64359\n",
              "20  30.0  67660\n",
              "22  28.0  56349\n",
              "23  28.0  32220\n",
              "24  29.0  25813"
            ]
          },
          "metadata": {
            "tags": []
          },
          "execution_count": 23
        }
      ]
    },
    {
      "cell_type": "code",
      "metadata": {
        "id": "vNk8cpMjWUjv"
      },
      "source": [
        ""
      ],
      "execution_count": null,
      "outputs": []
    }
  ]
}