{
  "nbformat": 4,
  "nbformat_minor": 0,
  "metadata": {
    "colab": {
      "name": "18cse073_dmdw_5.ipynb",
      "provenance": [],
      "authorship_tag": "ABX9TyOllCst7e+hcd2ADC5unnCV",
      "include_colab_link": true
    },
    "kernelspec": {
      "name": "python3",
      "display_name": "Python 3"
    }
  },
  "cells": [
    {
      "cell_type": "markdown",
      "metadata": {
        "id": "view-in-github",
        "colab_type": "text"
      },
      "source": [
        "<a href=\"https://colab.research.google.com/github/Pradhan73/18cse073/blob/README%2FEDIT/18cse073_dmdw_5.ipynb\" target=\"_parent\"><img src=\"https://colab.research.google.com/assets/colab-badge.svg\" alt=\"Open In Colab\"/></a>"
      ]
    },
    {
      "cell_type": "code",
      "metadata": {
        "colab": {
          "base_uri": "https://localhost:8080/",
          "height": 269
        },
        "id": "7fF0MzUnDDXJ",
        "outputId": "5c64cc4e-f369-49ae-ddaa-cb649404f94d"
      },
      "source": [
        "import pandas as pd\n",
        "import seaborn as sn\n",
        "import matplotlib.pyplot as plt\n",
        " \n",
        "data = {'A': [45,37,42,35,39],\n",
        "        'B': [38,31,26,28,33],\n",
        "        'C': [10,15,17,21,12]\n",
        "        }\n",
        " \n",
        "df = pd.DataFrame(data,columns=['A','B','C'])\n",
        " \n",
        "corrMatrix = df.corr()\n",
        "sn.heatmap(corrMatrix, annot=True)\n",
        "plt.show()"
      ],
      "execution_count": 4,
      "outputs": [
        {
          "output_type": "display_data",
          "data": {
            "image/png": "[encoded data removed]",
            "text/plain": [
              "<Figure size 432x288 with 2 Axes>"
            ]
          },
          "metadata": {
            "tags": [],
            "needs_background": "light"
          }
        }
      ]
    },
    {
      "cell_type": "code",
      "metadata": {
        "colab": {
          "base_uri": "https://localhost:8080/",
          "height": 298
        },
        "id": "ompjyu6LQlHZ",
        "outputId": "523d4e29-f72b-4912-f309-82779729e0c9"
      },
      "source": [
        "from numpy.random import randn\n",
        "from numpy.random import seed\n",
        "from numpy import cov\n",
        "from matplotlib import pyplot\n",
        "\n",
        "data1 = 20 * randn(100) + 100\n",
        "data2 = data1 + (10 * randn(100) + 50)\n",
        "\n",
        "covariance = cov(data1, data2)\n",
        "print(covariance)\n",
        "\n",
        "pyplot.scatter(data1, data2)\n",
        "pyplot.show()"
      ],
      "execution_count": 5,
      "outputs": [
        {
          "output_type": "stream",
          "text": [
            "[[297.89343818 316.48461296]\n",
            " [316.48461296 420.51316951]]\n"
          ],
          "name": "stdout"
        },
        {
          "output_type": "display_data",
          "data": {
            "image/png": "[encoded data removed]",
            "text/plain": [
              "<Figure size 432x288 with 1 Axes>"
            ]
          },
          "metadata": {
            "tags": [],
            "needs_background": "light"
          }
        }
      ]
    },
    {
      "cell_type": "code",
      "metadata": {
        "colab": {
          "base_uri": "https://localhost:8080/"
        },
        "id": "ye1mvzvNREiF",
        "outputId": "89906f32-cddb-45a5-90fa-9157a10a137d"
      },
      "source": [
        "import math\n",
        "Age = [23,23,27,27,39,41,47,49,50]\n",
        "fat = [9.5,26.5,7.8,17.8,31.4,25.9,27.4,27.2,31.2]\n",
        "mean_age = 0\n",
        "mean_fat = 0\n",
        "for i in range(9):\n",
        "    mean_age = mean_age + Age[i]\n",
        "    mean_fat = mean_fat + fat[i]\n",
        "mean_age = mean_age/9\n",
        "mean_fat = mean_fat/9\n",
        "\n",
        "Age1 = []\n",
        "fat1 = []\n",
        "for i in range(9):\n",
        "    Age1.append(Age[i]-mean_age)\n",
        "    fat1.append(fat[i]-mean_fat)\n",
        "Q1=0\n",
        "Q2=0\n",
        "Q=0\n",
        "for i in range(9):\n",
        "    Q1 = Q1 + Age1[i]*Age1[i]\n",
        "    Q2 = Q2 + fat1[i]*fat1[i]\n",
        "    Q = Q + Age1[i]*fat1[i]\n",
        "Q1 = math.sqrt(Q1)\n",
        "Q2 = math.sqrt(Q2)\n",
        "R = Q/(Q1*Q2)\n",
        "print(\"Corelation Coefficient is \",R)"
      ],
      "execution_count": 6,
      "outputs": [
        {
          "output_type": "stream",
          "text": [
            "Corelation Coefficient is  0.7102957400082588\n"
          ],
          "name": "stdout"
        }
      ]
    }
  ]
}